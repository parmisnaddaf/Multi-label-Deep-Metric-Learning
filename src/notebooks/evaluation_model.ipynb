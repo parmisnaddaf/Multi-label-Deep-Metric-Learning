{
 "cells": [
  {
   "cell_type": "code",
   "execution_count": 1,
   "metadata": {
    "ExecuteTime": {
     "end_time": "2020-04-15T12:54:26.953226Z",
     "start_time": "2020-04-15T12:54:26.951172Z"
    }
   },
   "outputs": [],
   "source": [
    "import sys\n",
    "sys.path.append(\"..\")"
   ]
  },
  {
   "cell_type": "code",
   "execution_count": 2,
   "metadata": {
    "ExecuteTime": {
     "end_time": "2020-04-15T12:54:27.965378Z",
     "start_time": "2020-04-15T12:54:26.956863Z"
    }
   },
   "outputs": [],
   "source": [
    "import utils\n",
    "import mydatasets\n",
    "import os\n",
    "import numpy as np\n",
    "import torch\n",
    "import mymodels\n",
    "from sklearn.manifold import TSNE\n",
    "import ipywidgets as widgets\n",
    "from ipywidgets import interact,fixed,interact_manual\n",
    "%matplotlib inline\n",
    "import matplotlib\n",
    "import matplotlib.pyplot as plt\n",
    "from sklearn.neighbors import NearestNeighbors\n",
    "import pandas as pd\n",
    "from sklearn import metrics as skmet"
   ]
  },
  {
   "cell_type": "code",
   "execution_count": 3,
   "metadata": {
    "ExecuteTime": {
     "end_time": "2020-04-15T12:54:27.969122Z",
     "start_time": "2020-04-15T12:54:27.966767Z"
    }
   },
   "outputs": [],
   "source": [
    "DATASET=\"bibtex\"\n",
    "SPLIT=0"
   ]
  },
  {
   "cell_type": "code",
   "execution_count": 4,
   "metadata": {
    "ExecuteTime": {
     "end_time": "2020-04-15T12:54:28.798854Z",
     "start_time": "2020-04-15T12:54:27.971019Z"
    },
    "scrolled": true
   },
   "outputs": [
    {
     "name": "stdout",
     "output_type": "stream",
     "text": [
      "Loading datasets\n",
      "../data/Bibtex/Bibtex_data.txt\n",
      "../data/Bibtex/bibtex_trSplit.txt\n",
      "../data/Bibtex/bibtex_tstSplit.txt\n",
      "Number of splits : 10\n",
      "## HEADER ##\n",
      "#Point : 7395 , #Features : 1836 , #Labels : 159\n"
     ]
    }
   ],
   "source": [
    "# change dirs because paths are hardcoded in mydatasets\n",
    "curr_dir=os.getcwd()\n",
    "os.chdir(\"..\")\n",
    "if DATASET in [\"mediamill\",\"delicious\",\"bibtex\"]:\n",
    "    full_dataset,trn_splits,tst_splits=mydatasets.load_small_dataset(DATASET)\n",
    "    trn_data,tst_data=mydatasets.get_small_dataset_split(full_dataset,trn_splits,tst_splits,SPLIT)\n",
    "elif DATASET in [\"eurlex\"]:\n",
    "    trn_data,tst_data=mydatasets.load_large_dataset(DATASET)\n",
    "x_mat,y_mat,x_tst,y_tst=mydatasets.get_arrays(trn_data,tst_data)\n",
    "# change back\n",
    "os.chdir(curr_dir)"
   ]
  },
  {
   "cell_type": "code",
   "execution_count": 8,
   "metadata": {
    "ExecuteTime": {
     "end_time": "2020-04-15T12:54:28.804042Z",
     "start_time": "2020-04-15T12:54:28.801046Z"
    }
   },
   "outputs": [],
   "source": [
    "load_model_dir=\"../runs/bibtex_30_3500/\"\n",
    "model_num=4\n",
    "val_file_name=\"../runs/bibtex_datadict.p\""
   ]
  },
  {
   "cell_type": "code",
   "execution_count": 6,
   "metadata": {
    "ExecuteTime": {
     "end_time": "2020-04-15T12:54:28.859640Z",
     "start_time": "2020-04-15T12:54:28.806126Z"
    }
   },
   "outputs": [],
   "source": [
    "x_trn,y_trn,x_val,y_val=mydatasets.get_validation_split(x_mat,y_mat,val_file_name,None)"
   ]
  },
  {
   "cell_type": "code",
   "execution_count": 9,
   "metadata": {
    "ExecuteTime": {
     "end_time": "2020-04-15T12:54:28.883490Z",
     "start_time": "2020-04-15T12:54:28.861343Z"
    }
   },
   "outputs": [],
   "source": [
    "model=torch.load(load_model_dir+\"model_\"+str(model_num))"
   ]
  },
  {
   "cell_type": "code",
   "execution_count": 10,
   "metadata": {
    "ExecuteTime": {
     "end_time": "2020-04-15T12:54:29.030318Z",
     "start_time": "2020-04-15T12:54:28.886620Z"
    }
   },
   "outputs": [],
   "source": [
    "emb_trn=model(torch.from_numpy(x_trn.astype('float32'))).detach().numpy()\n",
    "emb_val=model(torch.from_numpy(x_val.astype('float32'))).detach().numpy()"
   ]
  },
  {
   "cell_type": "markdown",
   "metadata": {},
   "source": [
    "### Simple neighbour model"
   ]
  },
  {
   "cell_type": "code",
   "execution_count": 11,
   "metadata": {
    "ExecuteTime": {
     "end_time": "2020-04-15T12:55:01.018561Z",
     "start_time": "2020-04-15T12:54:46.329075Z"
    }
   },
   "outputs": [],
   "source": [
    "metrics_df=pd.DataFrame()\n",
    "for num_neighbours in [5,10,15,20,50,100,150]:\n",
    "    nbrs = NearestNeighbors(n_neighbors=num_neighbours, algorithm='ball_tree').fit(emb_trn)\n",
    "    trn_metrics=utils.compute_mlr_metrics(nbrs,num_neighbours,y_trn,emb_trn,y_trn,\"\")\n",
    "    trn_metrics[\"trn/val\"]=\"trn\"\n",
    "    trn_metrics[\"num_nbr\"]=num_neighbours\n",
    "    metrics_df=metrics_df.append(trn_metrics)\n",
    "    val_metrics=utils.compute_mlr_metrics(nbrs,num_neighbours,y_trn,emb_val,y_val,\"\")\n",
    "    val_metrics[\"trn/val\"]=\"val\"\n",
    "    val_metrics[\"num_nbr\"]=num_neighbours\n",
    "    metrics_df=metrics_df.append(val_metrics)"
   ]
  },
  {
   "cell_type": "markdown",
   "metadata": {},
   "source": [
    "### Distance weighted neighbour model"
   ]
  },
  {
   "cell_type": "code",
   "execution_count": 12,
   "metadata": {
    "ExecuteTime": {
     "end_time": "2020-04-15T12:55:01.027403Z",
     "start_time": "2020-04-15T12:55:01.020346Z"
    }
   },
   "outputs": [],
   "source": [
    "def weighted_mlr_metrics(nbrs,num_neighbours,y_trn,emb_tst,y_tst,prefix):\n",
    "    nbr_distances, nbr_indices = nbrs.kneighbors(emb_tst)\n",
    "    weights=np.exp(-nbr_distances)\n",
    "    y_nbr_weighted=y_trn[nbr_indices,:]*weights.reshape(-1,num_neighbours,1)\n",
    "    assert(y_nbr_weighted.shape==(emb_tst.shape[0],num_neighbours,y_tst.shape[1]))\n",
    "    y_pred=np.mean(y_nbr_weighted,axis=1)\n",
    "    metrics_df=pd.DataFrame(index=[0])\n",
    "    metrics_df.loc[0,prefix+\"p@1\"]=utils.precision_at_k(y_tst,y_pred,1)\n",
    "    metrics_df.loc[0,prefix+\"p@3\"]=utils.precision_at_k(y_tst,y_pred,3)\n",
    "    metrics_df.loc[0,prefix+\"p@5\"]=utils.precision_at_k(y_tst,y_pred,5)\n",
    "    metrics_df.loc[0,prefix+\"ranking_loss\"]=skmet.label_ranking_loss(y_tst,y_pred)\n",
    "    metrics_df.loc[0,prefix+\"coverage_error\"]=skmet.coverage_error(y_tst,y_pred)\n",
    "    metrics_df.loc[0,prefix+\"avg_prec_score\"]=skmet.label_ranking_average_precision_score(y_tst,y_pred)\n",
    "    return metrics_df"
   ]
  },
  {
   "cell_type": "code",
   "execution_count": 13,
   "metadata": {
    "ExecuteTime": {
     "end_time": "2020-04-15T12:55:18.197465Z",
     "start_time": "2020-04-15T12:55:01.029626Z"
    }
   },
   "outputs": [],
   "source": [
    "wmetrics_df=pd.DataFrame()\n",
    "for num_neighbours in [5,10,15,20,50,100,150]:\n",
    "    nbrs = NearestNeighbors(n_neighbors=num_neighbours, algorithm='ball_tree').fit(emb_trn)\n",
    "    trn_metrics=weighted_mlr_metrics(nbrs,num_neighbours,y_trn,emb_trn,y_trn,\"\")\n",
    "    trn_metrics[\"trn/val\"]=\"trn\"\n",
    "    trn_metrics[\"num_nbr\"]=num_neighbours\n",
    "    wmetrics_df=wmetrics_df.append(trn_metrics)\n",
    "    val_metrics=weighted_mlr_metrics(nbrs,num_neighbours,y_trn,emb_val,y_val,\"\")\n",
    "    val_metrics[\"trn/val\"]=\"val\"\n",
    "    val_metrics[\"num_nbr\"]=num_neighbours\n",
    "    wmetrics_df=wmetrics_df.append(val_metrics)"
   ]
  },
  {
   "cell_type": "code",
   "execution_count": 14,
   "metadata": {
    "ExecuteTime": {
     "end_time": "2020-04-15T12:55:18.224893Z",
     "start_time": "2020-04-15T12:55:18.198915Z"
    }
   },
   "outputs": [
    {
     "data": {
      "text/html": [
       "<div>\n",
       "<style scoped>\n",
       "    .dataframe tbody tr th:only-of-type {\n",
       "        vertical-align: middle;\n",
       "    }\n",
       "\n",
       "    .dataframe tbody tr th {\n",
       "        vertical-align: top;\n",
       "    }\n",
       "\n",
       "    .dataframe thead th {\n",
       "        text-align: right;\n",
       "    }\n",
       "</style>\n",
       "<table border=\"1\" class=\"dataframe\">\n",
       "  <thead>\n",
       "    <tr style=\"text-align: right;\">\n",
       "      <th></th>\n",
       "      <th>p@1</th>\n",
       "      <th>p@3</th>\n",
       "      <th>p@5</th>\n",
       "      <th>ranking_loss</th>\n",
       "      <th>coverage_error</th>\n",
       "      <th>avg_prec_score</th>\n",
       "      <th>trn/val</th>\n",
       "      <th>num_nbr</th>\n",
       "    </tr>\n",
       "  </thead>\n",
       "  <tbody>\n",
       "    <tr>\n",
       "      <th>0</th>\n",
       "      <td>0.508197</td>\n",
       "      <td>0.286202</td>\n",
       "      <td>0.204508</td>\n",
       "      <td>0.427308</td>\n",
       "      <td>98.836066</td>\n",
       "      <td>0.385078</td>\n",
       "      <td>val</td>\n",
       "      <td>5</td>\n",
       "    </tr>\n",
       "    <tr>\n",
       "      <th>0</th>\n",
       "      <td>0.518443</td>\n",
       "      <td>0.300546</td>\n",
       "      <td>0.218852</td>\n",
       "      <td>0.316805</td>\n",
       "      <td>78.901639</td>\n",
       "      <td>0.416717</td>\n",
       "      <td>val</td>\n",
       "      <td>10</td>\n",
       "    </tr>\n",
       "    <tr>\n",
       "      <th>0</th>\n",
       "      <td>0.534836</td>\n",
       "      <td>0.304645</td>\n",
       "      <td>0.225000</td>\n",
       "      <td>0.269047</td>\n",
       "      <td>69.692623</td>\n",
       "      <td>0.435849</td>\n",
       "      <td>val</td>\n",
       "      <td>15</td>\n",
       "    </tr>\n",
       "    <tr>\n",
       "      <th>0</th>\n",
       "      <td>0.516393</td>\n",
       "      <td>0.305328</td>\n",
       "      <td>0.228279</td>\n",
       "      <td>0.236617</td>\n",
       "      <td>61.963115</td>\n",
       "      <td>0.443147</td>\n",
       "      <td>val</td>\n",
       "      <td>20</td>\n",
       "    </tr>\n",
       "    <tr>\n",
       "      <th>0</th>\n",
       "      <td>0.522541</td>\n",
       "      <td>0.299863</td>\n",
       "      <td>0.221311</td>\n",
       "      <td>0.154823</td>\n",
       "      <td>41.891393</td>\n",
       "      <td>0.451256</td>\n",
       "      <td>val</td>\n",
       "      <td>50</td>\n",
       "    </tr>\n",
       "    <tr>\n",
       "      <th>0</th>\n",
       "      <td>0.500000</td>\n",
       "      <td>0.285519</td>\n",
       "      <td>0.222131</td>\n",
       "      <td>0.120227</td>\n",
       "      <td>32.952869</td>\n",
       "      <td>0.441439</td>\n",
       "      <td>val</td>\n",
       "      <td>100</td>\n",
       "    </tr>\n",
       "    <tr>\n",
       "      <th>0</th>\n",
       "      <td>0.485656</td>\n",
       "      <td>0.277322</td>\n",
       "      <td>0.215574</td>\n",
       "      <td>0.106594</td>\n",
       "      <td>29.268443</td>\n",
       "      <td>0.432866</td>\n",
       "      <td>val</td>\n",
       "      <td>150</td>\n",
       "    </tr>\n",
       "  </tbody>\n",
       "</table>\n",
       "</div>"
      ],
      "text/plain": [
       "        p@1       p@3       p@5  ranking_loss  coverage_error  avg_prec_score  \\\n",
       "0  0.508197  0.286202  0.204508      0.427308       98.836066        0.385078   \n",
       "0  0.518443  0.300546  0.218852      0.316805       78.901639        0.416717   \n",
       "0  0.534836  0.304645  0.225000      0.269047       69.692623        0.435849   \n",
       "0  0.516393  0.305328  0.228279      0.236617       61.963115        0.443147   \n",
       "0  0.522541  0.299863  0.221311      0.154823       41.891393        0.451256   \n",
       "0  0.500000  0.285519  0.222131      0.120227       32.952869        0.441439   \n",
       "0  0.485656  0.277322  0.215574      0.106594       29.268443        0.432866   \n",
       "\n",
       "  trn/val  num_nbr  \n",
       "0     val        5  \n",
       "0     val       10  \n",
       "0     val       15  \n",
       "0     val       20  \n",
       "0     val       50  \n",
       "0     val      100  \n",
       "0     val      150  "
      ]
     },
     "metadata": {},
     "output_type": "display_data"
    },
    {
     "data": {
      "text/html": [
       "<div>\n",
       "<style scoped>\n",
       "    .dataframe tbody tr th:only-of-type {\n",
       "        vertical-align: middle;\n",
       "    }\n",
       "\n",
       "    .dataframe tbody tr th {\n",
       "        vertical-align: top;\n",
       "    }\n",
       "\n",
       "    .dataframe thead th {\n",
       "        text-align: right;\n",
       "    }\n",
       "</style>\n",
       "<table border=\"1\" class=\"dataframe\">\n",
       "  <thead>\n",
       "    <tr style=\"text-align: right;\">\n",
       "      <th></th>\n",
       "      <th>p@1</th>\n",
       "      <th>p@3</th>\n",
       "      <th>p@5</th>\n",
       "      <th>ranking_loss</th>\n",
       "      <th>coverage_error</th>\n",
       "      <th>avg_prec_score</th>\n",
       "      <th>trn/val</th>\n",
       "      <th>num_nbr</th>\n",
       "    </tr>\n",
       "  </thead>\n",
       "  <tbody>\n",
       "    <tr>\n",
       "      <th>0</th>\n",
       "      <td>0.508197</td>\n",
       "      <td>0.298497</td>\n",
       "      <td>0.214344</td>\n",
       "      <td>0.422631</td>\n",
       "      <td>98.247951</td>\n",
       "      <td>0.425638</td>\n",
       "      <td>val</td>\n",
       "      <td>5</td>\n",
       "    </tr>\n",
       "    <tr>\n",
       "      <th>0</th>\n",
       "      <td>0.514344</td>\n",
       "      <td>0.306694</td>\n",
       "      <td>0.226230</td>\n",
       "      <td>0.307989</td>\n",
       "      <td>77.565574</td>\n",
       "      <td>0.451442</td>\n",
       "      <td>val</td>\n",
       "      <td>10</td>\n",
       "    </tr>\n",
       "    <tr>\n",
       "      <th>0</th>\n",
       "      <td>0.520492</td>\n",
       "      <td>0.312158</td>\n",
       "      <td>0.225820</td>\n",
       "      <td>0.258888</td>\n",
       "      <td>68.084016</td>\n",
       "      <td>0.465340</td>\n",
       "      <td>val</td>\n",
       "      <td>15</td>\n",
       "    </tr>\n",
       "    <tr>\n",
       "      <th>0</th>\n",
       "      <td>0.516393</td>\n",
       "      <td>0.312842</td>\n",
       "      <td>0.225000</td>\n",
       "      <td>0.224842</td>\n",
       "      <td>59.981557</td>\n",
       "      <td>0.467567</td>\n",
       "      <td>val</td>\n",
       "      <td>20</td>\n",
       "    </tr>\n",
       "    <tr>\n",
       "      <th>0</th>\n",
       "      <td>0.524590</td>\n",
       "      <td>0.301913</td>\n",
       "      <td>0.224180</td>\n",
       "      <td>0.141881</td>\n",
       "      <td>39.174180</td>\n",
       "      <td>0.471794</td>\n",
       "      <td>val</td>\n",
       "      <td>50</td>\n",
       "    </tr>\n",
       "    <tr>\n",
       "      <th>0</th>\n",
       "      <td>0.502049</td>\n",
       "      <td>0.289617</td>\n",
       "      <td>0.225000</td>\n",
       "      <td>0.107844</td>\n",
       "      <td>30.286885</td>\n",
       "      <td>0.452267</td>\n",
       "      <td>val</td>\n",
       "      <td>100</td>\n",
       "    </tr>\n",
       "    <tr>\n",
       "      <th>0</th>\n",
       "      <td>0.487705</td>\n",
       "      <td>0.281421</td>\n",
       "      <td>0.216393</td>\n",
       "      <td>0.095950</td>\n",
       "      <td>26.997951</td>\n",
       "      <td>0.441803</td>\n",
       "      <td>val</td>\n",
       "      <td>150</td>\n",
       "    </tr>\n",
       "  </tbody>\n",
       "</table>\n",
       "</div>"
      ],
      "text/plain": [
       "        p@1       p@3       p@5  ranking_loss  coverage_error  avg_prec_score  \\\n",
       "0  0.508197  0.298497  0.214344      0.422631       98.247951        0.425638   \n",
       "0  0.514344  0.306694  0.226230      0.307989       77.565574        0.451442   \n",
       "0  0.520492  0.312158  0.225820      0.258888       68.084016        0.465340   \n",
       "0  0.516393  0.312842  0.225000      0.224842       59.981557        0.467567   \n",
       "0  0.524590  0.301913  0.224180      0.141881       39.174180        0.471794   \n",
       "0  0.502049  0.289617  0.225000      0.107844       30.286885        0.452267   \n",
       "0  0.487705  0.281421  0.216393      0.095950       26.997951        0.441803   \n",
       "\n",
       "  trn/val  num_nbr  \n",
       "0     val        5  \n",
       "0     val       10  \n",
       "0     val       15  \n",
       "0     val       20  \n",
       "0     val       50  \n",
       "0     val      100  \n",
       "0     val      150  "
      ]
     },
     "metadata": {},
     "output_type": "display_data"
    }
   ],
   "source": [
    "display(metrics_df[metrics_df[\"trn/val\"]==\"val\"])\n",
    "display(wmetrics_df[wmetrics_df[\"trn/val\"]==\"val\"])"
   ]
  },
  {
   "cell_type": "markdown",
   "metadata": {},
   "source": [
    "**Clearly a distance weighted scheme is beneficial.** \n",
    "\n",
    "This reflects favourably for the model, that similarity and distances have are correctly related, which is the objective with which the model was trained."
   ]
  },
  {
   "cell_type": "code",
   "execution_count": 16,
   "metadata": {},
   "outputs": [],
   "source": [
    "a = np.random.randint(10, size=(4,5))"
   ]
  },
  {
   "cell_type": "code",
   "execution_count": 22,
   "metadata": {},
   "outputs": [
    {
     "data": {
      "text/plain": [
       "array([[9, 1, 5, 0, 2],\n",
       "       [2, 2, 4, 2, 8],\n",
       "       [5, 3, 2, 0, 3],\n",
       "       [7, 3, 6, 7, 4]])"
      ]
     },
     "execution_count": 22,
     "metadata": {},
     "output_type": "execute_result"
    }
   ],
   "source": [
    "a"
   ]
  },
  {
   "cell_type": "code",
   "execution_count": 25,
   "metadata": {},
   "outputs": [
    {
     "data": {
      "text/plain": [
       "array([[3, 1, 4, 2, 0],\n",
       "       [0, 1, 3, 2, 4],\n",
       "       [3, 2, 1, 4, 0],\n",
       "       [1, 4, 2, 0, 3]])"
      ]
     },
     "execution_count": 25,
     "metadata": {},
     "output_type": "execute_result"
    }
   ],
   "source": [
    "np.argsort(a, axis=1)"
   ]
  }
 ],
 "metadata": {
  "hide_input": false,
  "kernelspec": {
   "display_name": "Python 3",
   "language": "python",
   "name": "python3"
  },
  "language_info": {
   "codemirror_mode": {
    "name": "ipython",
    "version": 3
   },
   "file_extension": ".py",
   "mimetype": "text/x-python",
   "name": "python",
   "nbconvert_exporter": "python",
   "pygments_lexer": "ipython3",
   "version": "3.9.7"
  },
  "toc": {
   "base_numbering": 1,
   "nav_menu": {},
   "number_sections": true,
   "sideBar": true,
   "skip_h1_title": false,
   "title_cell": "Table of Contents",
   "title_sidebar": "Contents",
   "toc_cell": false,
   "toc_position": {},
   "toc_section_display": true,
   "toc_window_display": false
  }
 },
 "nbformat": 4,
 "nbformat_minor": 2
}
